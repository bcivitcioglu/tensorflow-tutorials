{
 "cells": [
  {
   "cell_type": "markdown",
   "id": "8a510ad5-0309-42dd-a495-c93ef0c0245a",
   "metadata": {},
   "source": [
    "<h1>TensorBoard Tutorial</h1>"
   ]
  },
  {
   "cell_type": "code",
   "execution_count": 1,
   "id": "72c4dadc-3e8b-4e53-bfee-bb06a448b7c0",
   "metadata": {},
   "outputs": [],
   "source": [
    "%load_ext tensorboard"
   ]
  },
  {
   "cell_type": "code",
   "execution_count": 2,
   "id": "31eeeda8-80b5-4882-8ab7-3de9a06b6bde",
   "metadata": {},
   "outputs": [],
   "source": [
    "import tensorflow as tf\n",
    "import tensorboard\n",
    "from datetime import datetime\n",
    "from packaging import version\n",
    "import numpy as np\n",
    "import matplotlib.pyplot as plt\n",
    "import io"
   ]
  },
  {
   "cell_type": "code",
   "execution_count": 3,
   "id": "683fa95f-6121-4750-acf5-1e5c8cd58f8c",
   "metadata": {},
   "outputs": [
    {
     "name": "stdout",
     "output_type": "stream",
     "text": [
      "TensorFlow version:  2.4.1\n",
      "TensorBoard version:  2.4.1\n"
     ]
    }
   ],
   "source": [
    "print(\"TensorFlow version: \", tf.__version__)\n",
    "assert version.parse(tf.__version__).release[0] >= 2, \\\n",
    "    \"This notebook requires TensorFlow 2.0 or above.\"\n",
    "print(\"TensorBoard version: \", tensorboard.__version__)"
   ]
  },
  {
   "cell_type": "markdown",
   "id": "6437b81a-aeba-4ef9-b4e7-6bba6609cbbb",
   "metadata": {},
   "source": [
    "<h3>We remove previous \"logs\". Log files are the files created and read by tensorboard. These files keep the information we instruct it to keep; such as the loss function vs epoch, or images and figures we want to present.</h3>"
   ]
  },
  {
   "cell_type": "code",
   "execution_count": 4,
   "id": "7510c5db-2c2c-4287-91a7-10ee906dc8e1",
   "metadata": {},
   "outputs": [],
   "source": [
    "rm -rf ./logs/"
   ]
  },
  {
   "cell_type": "markdown",
   "id": "4461794c-6f24-4e8f-8b20-636679d19cac",
   "metadata": {},
   "source": [
    "Let's define a simple model to test"
   ]
  },
  {
   "cell_type": "code",
   "execution_count": 5,
   "id": "744ebae7-7f24-4be6-9a65-57aac6a77c70",
   "metadata": {},
   "outputs": [],
   "source": [
    "# Define the model.\n",
    "model = tf.keras.models.Sequential([\n",
    "    tf.keras.layers.Flatten(input_shape=(28, 28)),\n",
    "    tf.keras.layers.Dense(32, activation='relu'),\n",
    "    tf.keras.layers.Dropout(0.2),\n",
    "    tf.keras.layers.Dense(10, activation='softmax')\n",
    "])\n",
    "\n",
    "model.compile(\n",
    "    optimizer='adam',\n",
    "    loss='sparse_categorical_crossentropy',\n",
    "    metrics=['accuracy'])"
   ]
  },
  {
   "cell_type": "code",
   "execution_count": 6,
   "id": "21e73497-c13f-46d8-b6c0-16dd7a504687",
   "metadata": {},
   "outputs": [],
   "source": [
    "(train_images, train_labels), _ = tf.keras.datasets.mnist.load_data()\n",
    "train_images = train_images / 255.0"
   ]
  },
  {
   "cell_type": "markdown",
   "id": "ced4cb5c-9a6b-407b-af1a-c334b8d17d44",
   "metadata": {},
   "source": [
    "<h3>Now, before we fit the model, we create the log directory and the tensorboard_callback. This will be specified in the model.fit so that we connect model and tensorboard.</h3>"
   ]
  },
  {
   "cell_type": "code",
   "execution_count": 7,
   "id": "1c4e7d6d-f63f-429c-a0d2-1e24dc13de53",
   "metadata": {},
   "outputs": [],
   "source": [
    "# Define the Keras TensorBoard callback.\n",
    "logdir=\"logs/fit/\" + datetime.now().strftime(\"%Y%m%d-%H%M%S\")\n",
    "tensorboard_callback = tf.keras.callbacks.TensorBoard(log_dir=logdir, histogram_freq = 0, write_graph = True, write_images = True)\n",
    "file_writer = tf.summary.create_file_writer(logdir)\n"
   ]
  },
  {
   "cell_type": "code",
   "execution_count": 8,
   "id": "5daba1c3-4de6-498d-a9e0-f53caa421b31",
   "metadata": {},
   "outputs": [
    {
     "name": "stdout",
     "output_type": "stream",
     "text": [
      "Epoch 1/5\n",
      "938/938 [==============================] - 1s 735us/step - loss: 0.8260 - accuracy: 0.7486\n",
      "Epoch 2/5\n",
      "938/938 [==============================] - 1s 761us/step - loss: 0.3326 - accuracy: 0.9015\n",
      "Epoch 3/5\n",
      "938/938 [==============================] - 1s 689us/step - loss: 0.2661 - accuracy: 0.9209\n",
      "Epoch 4/5\n",
      "938/938 [==============================] - 1s 689us/step - loss: 0.2369 - accuracy: 0.9307\n",
      "Epoch 5/5\n",
      "938/938 [==============================] - 1s 692us/step - loss: 0.2158 - accuracy: 0.9347\n"
     ]
    },
    {
     "data": {
      "text/plain": [
       "<tensorflow.python.keras.callbacks.History at 0x7fd5ca150280>"
      ]
     },
     "execution_count": 8,
     "metadata": {},
     "output_type": "execute_result"
    }
   ],
   "source": [
    "\n",
    "# Train the model.\n",
    "model.fit(\n",
    "    train_images,\n",
    "    train_labels, \n",
    "    batch_size=64,\n",
    "    epochs=5, \n",
    "    callbacks=[tensorboard_callback])"
   ]
  },
  {
   "cell_type": "markdown",
   "id": "c22ecf8a-eb6a-4146-96fd-6ec8f09b2ad1",
   "metadata": {},
   "source": [
    "<h3>Let's imagine we have a figure we want to add to tensorboard. We can only add images to tensorboard and therefore we need some helper functions to convert our matplotlib figure into a png file.</h3>"
   ]
  },
  {
   "cell_type": "code",
   "execution_count": 24,
   "id": "52b560cb-6865-4f68-ab27-c0c8f9fc2255",
   "metadata": {},
   "outputs": [],
   "source": [
    "def sample_figure():\n",
    "    x = np.linspace(0,5,100)\n",
    "    y = np.exp(x) \n",
    "    for i in np.arange(y.size):\n",
    "        y[i] += 30*(np.random.random()-0.5)\n",
    "\n",
    "    plt.style.use('Solarize_Light2')\n",
    "    num_plots = (2,2)\n",
    "    fig, axs = plt.subplots(num_plots[0],num_plots[1],figsize=(15,10), edgecolor='k')\n",
    "    fig.subplots_adjust(hspace = .5, wspace=.001)\n",
    "    fig.suptitle('Sample Test Data', fontsize = 15)\n",
    "    axs = axs.ravel()\n",
    "\n",
    "    for i in np.arange(num_plots[0]*num_plots[1]):\n",
    "\n",
    "        axs[i].scatter(x,y*i/2)\n",
    "\n",
    "    return fig"
   ]
  },
  {
   "cell_type": "code",
   "execution_count": 25,
   "id": "c2fb05a8-df61-40c9-b528-8b0a89428e54",
   "metadata": {},
   "outputs": [
    {
     "data": {
      "image/png": "[encoded data removed]",
      "text/plain": [
       "<Figure size 1080x720 with 4 Axes>"
      ]
     },
     "metadata": {},
     "output_type": "display_data"
    }
   ],
   "source": [
    "figure_test = sample_figure()"
   ]
  },
  {
   "cell_type": "markdown",
   "id": "0e6df94a-099d-47e2-b5f3-01033a1d0052",
   "metadata": {},
   "source": [
    "<h3>We have the helper function to convert this image into a png file. Note that this will return a tensorflow tensor and not a conventional png file. Therefore if we try to plt.imshow() the outcome of th ebelow function, we will receive an error.</h3>\n",
    "\n",
    "<h3>The useful part of this is that for instance we can also add the confusion matrices or any other necessary information about our project as images.</h3>"
   ]
  },
  {
   "cell_type": "code",
   "execution_count": 11,
   "id": "6442cdc8-2c22-476f-9614-6cb7da8b6b5f",
   "metadata": {},
   "outputs": [],
   "source": [
    "\n",
    "def plot_to_image(figure):\n",
    "  \n",
    "    '''\n",
    "    Converts the matplotlib plot specified by 'figure' to a PNG image and\n",
    "    returns it. \n",
    "    '''\n",
    "    # Save the plot to a PNG in memory.\n",
    "    buf = io.BytesIO()\n",
    "    figure.savefig(buf, format='png')\n",
    "    # Closing the figure prevents it from being displayed directly inside\n",
    "    # the notebook.\n",
    "    plt.close(figure)\n",
    "    buf.seek(0)\n",
    "    # Convert PNG buffer to TF image\n",
    "    image = tf.image.decode_png(buf.getvalue(), channels=4)\n",
    "    # Add the batch dimension\n",
    "    image = tf.expand_dims(image, 0)\n",
    "    return image\n",
    "\n"
   ]
  },
  {
   "cell_type": "code",
   "execution_count": 12,
   "id": "0a59a6a9-3218-4f68-b979-1605f4c2f19c",
   "metadata": {},
   "outputs": [],
   "source": [
    "with file_writer.as_default():\n",
    "    tf.summary.image(\"Test Data\", plot_to_image(figure_test), step=0)"
   ]
  },
  {
   "cell_type": "markdown",
   "id": "a9b10ca8-0666-4a70-a93a-3a7d1a3d1f1e",
   "metadata": {},
   "source": [
    "<h3>Supposedly inline tensorboard should work in jupyter however sometimes there are issues. In that case make sure you have tensorboard downloaded in the environment and run the following command in the terminal:\n",
    "\n",
    "tensorboard --logdir \\<Path Logs Directory\\></h3>"
   ]
  },
  {
   "cell_type": "code",
   "execution_count": 13,
   "id": "935a3388-9ec1-467f-8130-63c6015efb0a",
   "metadata": {},
   "outputs": [
    {
     "data": {
      "text/html": [
       "\n",
       "      <iframe id=\"tensorboard-frame-ed384887e40e3b43\" width=\"100%\" height=\"800\" frameborder=\"0\">\n",
       "      </iframe>\n",
       "      <script>\n",
       "        (function() {\n",
       "          const frame = document.getElementById(\"tensorboard-frame-ed384887e40e3b43\");\n",
       "          const url = new URL(\"/\", window.location);\n",
       "          const port = 6006;\n",
       "          if (port) {\n",
       "            url.port = port;\n",
       "          }\n",
       "          frame.src = url;\n",
       "        })();\n",
       "      </script>\n",
       "    "
      ],
      "text/plain": [
       "<IPython.core.display.HTML object>"
      ]
     },
     "metadata": {},
     "output_type": "display_data"
    }
   ],
   "source": [
    "%tensorboard --logdir logs\n"
   ]
  },
  {
   "cell_type": "code",
   "execution_count": null,
   "id": "46251e5a-7acc-498e-99a4-91a1cc5b7588",
   "metadata": {},
   "outputs": [],
   "source": []
  }
 ],
 "metadata": {
  "kernelspec": {
   "display_name": "Python 3",
   "language": "python",
   "name": "python3"
  },
  "language_info": {
   "codemirror_mode": {
    "name": "ipython",
    "version": 3
   },
   "file_extension": ".py",
   "mimetype": "text/x-python",
   "name": "python",
   "nbconvert_exporter": "python",
   "pygments_lexer": "ipython3",
   "version": "3.9.1"
  }
 },
 "nbformat": 4,
 "nbformat_minor": 5
}
